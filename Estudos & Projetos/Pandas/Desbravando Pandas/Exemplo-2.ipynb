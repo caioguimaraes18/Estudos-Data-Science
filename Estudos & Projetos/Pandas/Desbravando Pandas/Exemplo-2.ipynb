{
 "cells": [
  {
   "cell_type": "markdown",
   "metadata": {},
   "source": [
    "Iremos ver como converter tipo de dados!"
   ]
  },
  {
   "cell_type": "code",
   "execution_count": 5,
   "metadata": {},
   "outputs": [
    {
     "data": {
      "text/html": [
       "<div>\n",
       "<style scoped>\n",
       "    .dataframe tbody tr th:only-of-type {\n",
       "        vertical-align: middle;\n",
       "    }\n",
       "\n",
       "    .dataframe tbody tr th {\n",
       "        vertical-align: top;\n",
       "    }\n",
       "\n",
       "    .dataframe thead th {\n",
       "        text-align: right;\n",
       "    }\n",
       "</style>\n",
       "<table border=\"1\" class=\"dataframe\">\n",
       "  <thead>\n",
       "    <tr style=\"text-align: right;\">\n",
       "      <th></th>\n",
       "      <th>UUID</th>\n",
       "      <th>IDCustomer</th>\n",
       "      <th>DTTransaction</th>\n",
       "      <th>Points</th>\n",
       "    </tr>\n",
       "  </thead>\n",
       "  <tbody>\n",
       "    <tr>\n",
       "      <th>0</th>\n",
       "      <td>c00f1564-9f29-4e3a-b7d9-f20161e45a7f</td>\n",
       "      <td>dcta462j-313l-515fm-t6gh-6424er7845m2</td>\n",
       "      <td>2024-06-06 21:54:36</td>\n",
       "      <td>1577</td>\n",
       "    </tr>\n",
       "    <tr>\n",
       "      <th>1</th>\n",
       "      <td>cfd9ac73-6e80-4c17-8b59-d12bf7a22c7c</td>\n",
       "      <td>dcta849j-801l-228fm-t6gh-8918er7845m2</td>\n",
       "      <td>2024-07-08 21:19:36</td>\n",
       "      <td>394</td>\n",
       "    </tr>\n",
       "    <tr>\n",
       "      <th>2</th>\n",
       "      <td>54a23192-aabf-4937-8e8f-f8e65ca7059f</td>\n",
       "      <td>dcta880j-668l-412fm-t6gh-7273er7845m2</td>\n",
       "      <td>2024-01-27 14:03:36</td>\n",
       "      <td>55</td>\n",
       "    </tr>\n",
       "    <tr>\n",
       "      <th>3</th>\n",
       "      <td>0a7b7d6c-e1a4-4535-8041-655a80c598e5</td>\n",
       "      <td>dcta564j-790l-786fm-t6gh-1924er7845m2</td>\n",
       "      <td>2024-07-22 16:20:36</td>\n",
       "      <td>460</td>\n",
       "    </tr>\n",
       "    <tr>\n",
       "      <th>4</th>\n",
       "      <td>659f6f6c-d6c5-4bec-8ac2-2a3612d0e75c</td>\n",
       "      <td>dcta838j-174l-151fm-t6gh-3006er7845m2</td>\n",
       "      <td>2024-08-29 21:53:36</td>\n",
       "      <td>854</td>\n",
       "    </tr>\n",
       "  </tbody>\n",
       "</table>\n",
       "</div>"
      ],
      "text/plain": [
       "                                   UUID  \\\n",
       "0  c00f1564-9f29-4e3a-b7d9-f20161e45a7f   \n",
       "1  cfd9ac73-6e80-4c17-8b59-d12bf7a22c7c   \n",
       "2  54a23192-aabf-4937-8e8f-f8e65ca7059f   \n",
       "3  0a7b7d6c-e1a4-4535-8041-655a80c598e5   \n",
       "4  659f6f6c-d6c5-4bec-8ac2-2a3612d0e75c   \n",
       "\n",
       "                              IDCustomer       DTTransaction  Points  \n",
       "0  dcta462j-313l-515fm-t6gh-6424er7845m2 2024-06-06 21:54:36    1577  \n",
       "1  dcta849j-801l-228fm-t6gh-8918er7845m2 2024-07-08 21:19:36     394  \n",
       "2  dcta880j-668l-412fm-t6gh-7273er7845m2 2024-01-27 14:03:36      55  \n",
       "3  dcta564j-790l-786fm-t6gh-1924er7845m2 2024-07-22 16:20:36     460  \n",
       "4  dcta838j-174l-151fm-t6gh-3006er7845m2 2024-08-29 21:53:36     854  "
      ]
     },
     "execution_count": 5,
     "metadata": {},
     "output_type": "execute_result"
    }
   ],
   "source": [
    "import pandas as pd\n",
    "\n",
    "# Lendo o arquivo Excel\n",
    "df = pd.read_excel(\"../Dataset/Dataset.xlsx\")\n",
    "\n",
    "# Exibindo as primeiras linhas do dataset para verificar\n",
    "df.head()\n"
   ]
  },
  {
   "cell_type": "code",
   "execution_count": 6,
   "metadata": {},
   "outputs": [
    {
     "data": {
      "text/plain": [
       "UUID                     object\n",
       "IDCustomer               object\n",
       "DTTransaction    datetime64[ns]\n",
       "Points                    int64\n",
       "dtype: object"
      ]
     },
     "execution_count": 6,
     "metadata": {},
     "output_type": "execute_result"
    }
   ],
   "source": [
    "df.dtypes"
   ]
  },
  {
   "cell_type": "code",
   "execution_count": 7,
   "metadata": {},
   "outputs": [],
   "source": [
    "df['Points_dobble'] = df['Points'] * 2"
   ]
  },
  {
   "cell_type": "code",
   "execution_count": 12,
   "metadata": {},
   "outputs": [
    {
     "data": {
      "text/html": [
       "<div>\n",
       "<style scoped>\n",
       "    .dataframe tbody tr th:only-of-type {\n",
       "        vertical-align: middle;\n",
       "    }\n",
       "\n",
       "    .dataframe tbody tr th {\n",
       "        vertical-align: top;\n",
       "    }\n",
       "\n",
       "    .dataframe thead th {\n",
       "        text-align: right;\n",
       "    }\n",
       "</style>\n",
       "<table border=\"1\" class=\"dataframe\">\n",
       "  <thead>\n",
       "    <tr style=\"text-align: right;\">\n",
       "      <th></th>\n",
       "      <th>Points_dobble</th>\n",
       "      <th>Points</th>\n",
       "    </tr>\n",
       "  </thead>\n",
       "  <tbody>\n",
       "    <tr>\n",
       "      <th>0</th>\n",
       "      <td>3154.0</td>\n",
       "      <td>1577.0</td>\n",
       "    </tr>\n",
       "    <tr>\n",
       "      <th>1</th>\n",
       "      <td>788.0</td>\n",
       "      <td>394.0</td>\n",
       "    </tr>\n",
       "    <tr>\n",
       "      <th>2</th>\n",
       "      <td>110.0</td>\n",
       "      <td>55.0</td>\n",
       "    </tr>\n",
       "    <tr>\n",
       "      <th>3</th>\n",
       "      <td>920.0</td>\n",
       "      <td>460.0</td>\n",
       "    </tr>\n",
       "    <tr>\n",
       "      <th>4</th>\n",
       "      <td>1708.0</td>\n",
       "      <td>854.0</td>\n",
       "    </tr>\n",
       "    <tr>\n",
       "      <th>...</th>\n",
       "      <td>...</td>\n",
       "      <td>...</td>\n",
       "    </tr>\n",
       "    <tr>\n",
       "      <th>95</th>\n",
       "      <td>32.0</td>\n",
       "      <td>16.0</td>\n",
       "    </tr>\n",
       "    <tr>\n",
       "      <th>96</th>\n",
       "      <td>542.0</td>\n",
       "      <td>271.0</td>\n",
       "    </tr>\n",
       "    <tr>\n",
       "      <th>97</th>\n",
       "      <td>148.0</td>\n",
       "      <td>74.0</td>\n",
       "    </tr>\n",
       "    <tr>\n",
       "      <th>98</th>\n",
       "      <td>880.0</td>\n",
       "      <td>440.0</td>\n",
       "    </tr>\n",
       "    <tr>\n",
       "      <th>99</th>\n",
       "      <td>1660.0</td>\n",
       "      <td>830.0</td>\n",
       "    </tr>\n",
       "  </tbody>\n",
       "</table>\n",
       "<p>100 rows × 2 columns</p>\n",
       "</div>"
      ],
      "text/plain": [
       "    Points_dobble  Points\n",
       "0          3154.0  1577.0\n",
       "1           788.0   394.0\n",
       "2           110.0    55.0\n",
       "3           920.0   460.0\n",
       "4          1708.0   854.0\n",
       "..            ...     ...\n",
       "95           32.0    16.0\n",
       "96          542.0   271.0\n",
       "97          148.0    74.0\n",
       "98          880.0   440.0\n",
       "99         1660.0   830.0\n",
       "\n",
       "[100 rows x 2 columns]"
      ]
     },
     "execution_count": 12,
     "metadata": {},
     "output_type": "execute_result"
    }
   ],
   "source": [
    "df[['Points_dobble', 'Points']].astype(float)"
   ]
  },
  {
   "cell_type": "code",
   "execution_count": null,
   "metadata": {},
   "outputs": [],
   "source": []
  }
 ],
 "metadata": {
  "kernelspec": {
   "display_name": "Python 3",
   "language": "python",
   "name": "python3"
  },
  "language_info": {
   "codemirror_mode": {
    "name": "ipython",
    "version": 3
   },
   "file_extension": ".py",
   "mimetype": "text/x-python",
   "name": "python",
   "nbconvert_exporter": "python",
   "pygments_lexer": "ipython3",
   "version": "3.12.6"
  }
 },
 "nbformat": 4,
 "nbformat_minor": 2
}
